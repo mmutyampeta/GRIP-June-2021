{
  "nbformat": 4,
  "nbformat_minor": 0,
  "metadata": {
    "colab": {
      "name": "GRIP-Task1",
      "provenance": [],
      "authorship_tag": "ABX9TyMWGNfPEiDWOd562GeTQxaH",
      "include_colab_link": true
    },
    "kernelspec": {
      "name": "python3",
      "display_name": "Python 3"
    },
    "language_info": {
      "name": "python"
    }
  },
  "cells": [
    {
      "cell_type": "markdown",
      "metadata": {
        "id": "view-in-github",
        "colab_type": "text"
      },
      "source": [
        "<a href=\"https://colab.research.google.com/github/mmutyampeta/GRIP-June-2021/blob/main/GRIP_Task1.ipynb\" target=\"_parent\"><img src=\"https://colab.research.google.com/assets/colab-badge.svg\" alt=\"Open In Colab\"/></a>"
      ]
    },
    {
      "cell_type": "markdown",
      "metadata": {
        "id": "5YhSP7QwNEcz"
      },
      "source": [
        "##Importing Necessary Libraries\n"
      ]
    },
    {
      "cell_type": "code",
      "metadata": {
        "id": "u4nbkzC22V6O"
      },
      "source": [
        "import pandas as pd\n",
        "import matplotlib.pyplot as plt\n",
        "import numpy as np"
      ],
      "execution_count": null,
      "outputs": []
    },
    {
      "cell_type": "markdown",
      "metadata": {
        "id": "kwGd8QZ9NJhf"
      },
      "source": [
        "##Preparing the data into a dataframe, and splitting into necessary train and test sets\n"
      ]
    },
    {
      "cell_type": "code",
      "metadata": {
        "id": "R65VPbkm2Y_n"
      },
      "source": [
        "data = pd.read_csv(\"Task1-Scores.csv\")\n",
        "data = pd.DataFrame(data)\n",
        "X = data.iloc[:,0]\n",
        "y = data.iloc[:,1]\n",
        " \n",
        "from sklearn.model_selection import train_test_split\n",
        "X_train, X_test, y_train, y_test = train_test_split(X, y, test_size = 0.2, random_state = 0)"
      ],
      "execution_count": null,
      "outputs": []
    },
    {
      "cell_type": "markdown",
      "metadata": {
        "id": "EONDkv7KNRWD"
      },
      "source": [
        "##Running the Ridge regression model (a penalized linear technique)"
      ]
    },
    {
      "cell_type": "code",
      "metadata": {
        "id": "aVidk-G02ZEq",
        "colab": {
          "base_uri": "https://localhost:8080/"
        },
        "outputId": "05917351-9fa5-485c-a790-332d4354714b"
      },
      "source": [
        "cv_alphas = [0.001,0.003,0.01,0.03,0.1,0.3,1,3,10] \n",
        "X_train = np.array(X_train)\n",
        "X_train = X_train.reshape(-1,1)\n",
        "\n",
        "from sklearn.linear_model import RidgeCV\n",
        "from sklearn.metrics import r2_score\n",
        "ridgeModel = RidgeCV(alphas = cv_alphas)\n",
        "ridgeModel.fit(X_train, y_train)"
      ],
      "execution_count": null,
      "outputs": [
        {
          "output_type": "execute_result",
          "data": {
            "text/plain": [
              "RidgeCV(alphas=array([1.e-03, 3.e-03, 1.e-02, 3.e-02, 1.e-01, 3.e-01, 1.e+00, 3.e+00,\n",
              "       1.e+01]),\n",
              "        cv=None, fit_intercept=True, gcv_mode=None, normalize=False,\n",
              "        scoring=None, store_cv_values=False)"
            ]
          },
          "metadata": {
            "tags": []
          },
          "execution_count": 10
        }
      ]
    },
    {
      "cell_type": "markdown",
      "metadata": {
        "id": "Tl8kkcccNp4F"
      },
      "source": [
        "##Predicting the test set, to test accuracy"
      ]
    },
    {
      "cell_type": "code",
      "metadata": {
        "id": "AMx2LsHbA53O"
      },
      "source": [
        "X_test = np.array(X_test)\n",
        "X_test = X_test.reshape(-1,1)\n",
        "y_pred = ridgeModel.predict(X_test)"
      ],
      "execution_count": null,
      "outputs": []
    },
    {
      "cell_type": "code",
      "metadata": {
        "id": "arsZrGvh2ZLP",
        "colab": {
          "base_uri": "https://localhost:8080/"
        },
        "outputId": "374f9616-fad3-4bdd-ee78-fa2da8f61c83"
      },
      "source": [
        "score = r2_score(y_test,y_pred)\n",
        "print(score)"
      ],
      "execution_count": null,
      "outputs": [
        {
          "output_type": "stream",
          "text": [
            "0.9455540930071232\n"
          ],
          "name": "stdout"
        }
      ]
    },
    {
      "cell_type": "markdown",
      "metadata": {
        "id": "xgyU47W2OcWO"
      },
      "source": [
        "##Plotting the results"
      ]
    },
    {
      "cell_type": "code",
      "metadata": {
        "colab": {
          "base_uri": "https://localhost:8080/",
          "height": 265
        },
        "id": "stgpI1tMCHS-",
        "outputId": "b1b5d177-934f-43df-8178-1d5201a8efeb"
      },
      "source": [
        "plt.scatter(X, y, color = 'red')\n",
        "plt.plot(X_test, y_pred, color = 'black')\n",
        "plt.show()"
      ],
      "execution_count": null,
      "outputs": [
        {
          "output_type": "display_data",
          "data": {
            "image/png": "[encoded data removed]",
            "text/plain": [
              "<Figure size 432x288 with 1 Axes>"
            ]
          },
          "metadata": {
            "tags": [],
            "needs_background": "light"
          }
        }
      ]
    },
    {
      "cell_type": "code",
      "metadata": {
        "colab": {
          "base_uri": "https://localhost:8080/"
        },
        "id": "p3M9wcIyM96s",
        "outputId": "01690261-a824-4e43-ca5d-b706ac1a95cd"
      },
      "source": [
        "toP = np.array(9.25)\n",
        "toP = toP.reshape(-1,1)\n",
        "predicted = ridgeModel.predict(toP)\n",
        "print(predicted) "
      ],
      "execution_count": 24,
      "outputs": [
        {
          "output_type": "stream",
          "text": [
            "[93.60471389]\n"
          ],
          "name": "stdout"
        }
      ]
    },
    {
      "cell_type": "markdown",
      "metadata": {
        "id": "jIHtC0_gOxbI"
      },
      "source": [
        "The predicted percentage, given 9.25 hours of work, is 93.6%"
      ]
    },
    {
      "cell_type": "markdown",
      "metadata": {
        "id": "IAfzz7iYinD3"
      },
      "source": [
        "https://youtu.be/CKF1Mf9RqGk\n"
      ]
    }
  ]
}